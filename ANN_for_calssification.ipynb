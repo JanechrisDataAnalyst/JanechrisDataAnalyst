{
  "nbformat": 4,
  "nbformat_minor": 0,
  "metadata": {
    "colab": {
      "provenance": [],
      "include_colab_link": true
    },
    "kernelspec": {
      "name": "python3",
      "display_name": "Python 3"
    },
    "language_info": {
      "name": "python"
    }
  },
  "cells": [
    {
      "cell_type": "markdown",
      "metadata": {
        "id": "view-in-github",
        "colab_type": "text"
      },
      "source": [
        "<a href=\"https://colab.research.google.com/github/JanechrisDataAnalyst/JanechrisDataAnalyst/blob/main/ANN_for_calssification.ipynb\" target=\"_parent\"><img src=\"https://colab.research.google.com/assets/colab-badge.svg\" alt=\"Open In Colab\"/></a>"
      ]
    },
    {
      "cell_type": "code",
      "execution_count": null,
      "metadata": {
        "id": "F1UtwJjvfSSj"
      },
      "outputs": [],
      "source": [
        "#Importing necessary Libraries\n",
        "import numpy as np\n",
        "import pandas as pd\n",
        "import tensorflow as tf"
      ]
    },
    {
      "cell_type": "code",
      "source": [
        "#Loading Dataset\n",
        "data = pd.read_csv(\"Churn_Modelling.csv\")"
      ],
      "metadata": {
        "id": "zRlcdu2tfS9B"
      },
      "execution_count": null,
      "outputs": []
    },
    {
      "cell_type": "code",
      "source": [
        "data.head()"
      ],
      "metadata": {
        "id": "oXrtf8h7hM6N"
      },
      "execution_count": null,
      "outputs": []
    },
    {
      "cell_type": "markdown",
      "source": [
        "### Generating Matrix of Features (X)\n",
        "\n",
        "\n",
        "The basic principle while creating a machine learning model is to generate X also called as Matrix of Features. This X basically contains all our independent variables. Let’s create the same here."
      ],
      "metadata": {
        "id": "WOKIy5OLgB5L"
      }
    },
    {
      "cell_type": "code",
      "source": [
        "\n",
        "X = data.iloc[:,3:-1].values\n",
        "print(X)"
      ],
      "metadata": {
        "colab": {
          "base_uri": "https://localhost:8080/"
        },
        "id": "xrnscNfCf8mp",
        "outputId": "894c8d6f-f809-40e0-ee3d-18d72276938b"
      },
      "execution_count": null,
      "outputs": [
        {
          "output_type": "stream",
          "name": "stdout",
          "text": [
            "[[619 'France' 'Female' ... 1 1 101348.88]\n",
            " [608 'Spain' 'Female' ... 0 1 112542.58]\n",
            " [502 'France' 'Female' ... 1 0 113931.57]\n",
            " ...\n",
            " [709 'France' 'Female' ... 0 1 42085.58]\n",
            " [772 'Germany' 'Male' ... 1 0 92888.52]\n",
            " [792 'France' 'Female' ... 1 0 38190.78]]\n"
          ]
        }
      ]
    },
    {
      "cell_type": "markdown",
      "source": [
        "Here I have used iloc method of Pandas data frame which allows us to fetch the desired values from the desired column within the dataset. Here as we can see that we are fetching all the data from the 3rd column till the last minus one column. The reason for that is the first 3 columns i.e RowNumber, CustomerId, and Surname have nothing to do with deciding whether the customer is going to exit or not. Hence in this case we started fetching all the values from the 3rd column onwards. Lastly, since our last column is basically a dependent variable hence we have mentioned -1 in iloc method using which allows us to exclude the last column from being included in our matrix of features X."
      ],
      "metadata": {
        "id": "e0uauZ_ngr5j"
      }
    },
    {
      "cell_type": "markdown",
      "source": [
        "### Generating Dependent Variable Vector(Y)\n",
        "In the same fashion where we have created our matrix of features(X) for the independent variable, we also have to create a dependent variable vector(Y) which will only contain our dependent variable values."
      ],
      "metadata": {
        "id": "8b-85soDg0i7"
      }
    },
    {
      "cell_type": "code",
      "source": [
        "#Generating Dependent Variable Vectors\n",
        "Y = data.iloc[:,-1].values"
      ],
      "metadata": {
        "id": "ebVm2bgogO_d"
      },
      "execution_count": null,
      "outputs": []
    },
    {
      "cell_type": "markdown",
      "source": [
        "Here our gender column has only 2 categories which are male and female, we are going to use LabelEncoding. This type of encoding will simply convert this column into a column having values of 0 and 1. In order to use Label Encoding, we are going to use LabelEncoder class from sklearn library."
      ],
      "metadata": {
        "id": "8Qhki_o0hF6Y"
      }
    },
    {
      "cell_type": "code",
      "source": [
        "#Encoding Categorical Variable Gender\n",
        "from sklearn.preprocessing import LabelEncoder\n",
        "LE1 = LabelEncoder()\n",
        "X[:,2] = np.array(LE1.fit_transform(X[:,2]))"
      ],
      "metadata": {
        "id": "ZHexoyfig4cp"
      },
      "execution_count": null,
      "outputs": []
    },
    {
      "cell_type": "code",
      "source": [
        "X[:,2]"
      ],
      "metadata": {
        "colab": {
          "base_uri": "https://localhost:8080/"
        },
        "id": "wagpW1l3hH4S",
        "outputId": "6551e309-f769-4efb-cf8f-a6e550693fc5"
      },
      "execution_count": null,
      "outputs": [
        {
          "output_type": "execute_result",
          "data": {
            "text/plain": [
              "array([0, 0, 0, ..., 0, 1, 0], dtype=object)"
            ]
          },
          "metadata": {},
          "execution_count": 8
        }
      ]
    },
    {
      "cell_type": "markdown",
      "source": [
        "### Encoding Categorical Variable Country\n",
        "Now let’s deal with another categorical column named country. This column has a cardinality of 3 meaning that it has 3 distinct categories present i.e France, Germany, Spain.\n",
        "\n",
        "In one hot encoding, all the string values are converted into binary streams of 0’s and 1’s. One-hot encoding ensures that the machine learning algorithm does not assume that higher numbers are more important."
      ],
      "metadata": {
        "id": "qWuc5FrLhmMk"
      }
    },
    {
      "cell_type": "code",
      "source": [
        "#Encoding Categorical variable Geography\n",
        "from sklearn.compose import ColumnTransformer\n",
        "from sklearn.preprocessing import OneHotEncoder\n",
        "ct =ColumnTransformer(transformers=[('encoder',OneHotEncoder(),[1])],remainder=\"passthrough\")\n",
        "X = np.array(ct.fit_transform(X))"
      ],
      "metadata": {
        "id": "xQ75OXfUhKWn"
      },
      "execution_count": null,
      "outputs": []
    },
    {
      "cell_type": "code",
      "source": [
        "X"
      ],
      "metadata": {
        "colab": {
          "base_uri": "https://localhost:8080/"
        },
        "id": "Py4B-xeIhvhE",
        "outputId": "991adef4-8d71-4d78-86cb-fe841b38a98f"
      },
      "execution_count": null,
      "outputs": [
        {
          "output_type": "execute_result",
          "data": {
            "text/plain": [
              "array([[1.0, 0.0, 0.0, ..., 1, 1, 101348.88],\n",
              "       [0.0, 0.0, 1.0, ..., 0, 1, 112542.58],\n",
              "       [1.0, 0.0, 0.0, ..., 1, 0, 113931.57],\n",
              "       ...,\n",
              "       [1.0, 0.0, 0.0, ..., 0, 1, 42085.58],\n",
              "       [0.0, 1.0, 0.0, ..., 1, 0, 92888.52],\n",
              "       [1.0, 0.0, 0.0, ..., 1, 0, 38190.78]], dtype=object)"
            ]
          },
          "metadata": {},
          "execution_count": 10
        }
      ]
    },
    {
      "cell_type": "markdown",
      "source": [
        "What is the use of ColumnTransformer? Well, ColumnTransformer is another class in sklearn that will allow us to select a particular column from our dataset on which we can apply one-hot encoding."
      ],
      "metadata": {
        "id": "Vee40xtMiEII"
      }
    },
    {
      "cell_type": "markdown",
      "source": [
        "### Splitting Dataset into Training and Testing Dataset\n"
      ],
      "metadata": {
        "id": "UCPx-JQLiWgX"
      }
    },
    {
      "cell_type": "code",
      "source": [
        "#Splitting dataset into training and testing dataset\n",
        "from sklearn.model_selection import train_test_split\n",
        "X_train,X_test,Y_train,Y_test = train_test_split(X,Y,test_size=0.2,random_state=0)"
      ],
      "metadata": {
        "id": "mBZ4vIwoh0h1"
      },
      "execution_count": null,
      "outputs": []
    },
    {
      "cell_type": "code",
      "source": [
        "#Performing Feature Scaling\n",
        "from sklearn.preprocessing import StandardScaler\n",
        "sc = StandardScaler()\n",
        "X_train = sc.fit_transform(X_train)\n",
        "X_test = sc.transform(X_test)"
      ],
      "metadata": {
        "id": "s-t2did4ib52"
      },
      "execution_count": null,
      "outputs": []
    },
    {
      "cell_type": "markdown",
      "source": [
        "# Initializing Artificial Neural Network\n"
      ],
      "metadata": {
        "id": "XjwSLFFxjYda"
      }
    },
    {
      "cell_type": "code",
      "source": [
        "#Initialising ANN\n",
        "ann = tf.keras.models.Sequential()"
      ],
      "metadata": {
        "id": "5AlAgt5OjQFO"
      },
      "execution_count": null,
      "outputs": []
    },
    {
      "cell_type": "markdown",
      "source": [
        "Once we initialize our ann, we are now going to create layers for the same. Here we are going to create a network that will have 2 hidden layers, 1 input layer, and 1 output layer. So, let’s create our very first hidden layer"
      ],
      "metadata": {
        "id": "dfTe17O9jn8I"
      }
    },
    {
      "cell_type": "code",
      "source": [
        " #Adding First Hidden Layer\n",
        "ann.add(tf.keras.layers.Dense(units=6,activation=\"relu\"))"
      ],
      "metadata": {
        "id": "UUS1KPHwjfZl"
      },
      "execution_count": null,
      "outputs": []
    },
    {
      "cell_type": "markdown",
      "source": [
        "Here we have created our first hidden layer by using the Dense class which is part of the layers module. This class accepts 2 inputs:-\n",
        "\n",
        "1. units:- number of neurons that will be present in the respective layer\n",
        "\n",
        "2. activation:- specify which activation function to be used"
      ],
      "metadata": {
        "id": "r-L14xrgkKAF"
      }
    },
    {
      "cell_type": "code",
      "source": [
        " #Adding Second Hidden Layer\n",
        "ann.add(tf.keras.layers.Dense(units=6,activation=\"relu\"))"
      ],
      "metadata": {
        "id": "7Dg3eLpOj12V"
      },
      "execution_count": null,
      "outputs": []
    },
    {
      "cell_type": "markdown",
      "source": [
        "### Creating Output Layer\n",
        "In this step, we are going to create our output layer for ann. The output layer will be responsible for giving output."
      ],
      "metadata": {
        "id": "HIZptDJykXS4"
      }
    },
    {
      "cell_type": "code",
      "source": [
        " #Adding Output Layer\n",
        "ann.add(tf.keras.layers.Dense(units=1,activation=\"sigmoid\"))"
      ],
      "metadata": {
        "id": "RvCZiICGkPX1"
      },
      "execution_count": null,
      "outputs": []
    },
    {
      "cell_type": "markdown",
      "source": [
        "Here again, we are going to use the Dense class in order to create the output layer. Two important things to remember here:-\n",
        "\n",
        "1. In a binary classification problem(like this one) where we will be having only two classes as output (1 and 0), we will be allocating only one neuron to output this result. For the multiclass classification problem, we have to use more than one neuron in the output layer. For example – if our output contains 4 categories then we need to create 4 different neurons[one for each category].\n",
        "\n",
        "2. For the binary classification Problems, the activation function that should always be used is sigmoid. For a multiclass classification problem, the activation function that should be used is softmax.\n",
        "\n",
        "Here since we are dealing with binary classification hence we are allocating only one neuron in the output layer and the activation function which is used is softmax."
      ],
      "metadata": {
        "id": "WB4UoLnQkrkk"
      }
    },
    {
      "cell_type": "markdown",
      "source": [
        "# Compiling Artificial Neural Network\n",
        "We have now created layers for our neural network. In this step, we are going to compile our ANN."
      ],
      "metadata": {
        "id": "_EaEzCjHk5m-"
      }
    },
    {
      "cell_type": "code",
      "source": [
        "#Compiling ANN\n",
        "ann.compile(optimizer=\"adam\",loss=\"binary_crossentropy\",metrics=['accuracy'])"
      ],
      "metadata": {
        "id": "SfvPU4juknwg"
      },
      "execution_count": null,
      "outputs": []
    },
    {
      "cell_type": "markdown",
      "source": [
        "We have used compile method of our ann object in order to compile our network. Compile method accepts the below inputs:-\n",
        "\n",
        "1. **optimizer**:- specifies which optimizer to be used in order to perform stochastic gradient descent. I had experimented with various optimizers like RMSProp, adam and I have found that adam optimizer is a reliable one that can be used with any neural network.\n",
        "\n",
        "2. **loss**:- specifies which loss function should be used. For binary classification, the value should be binary_crossentropy. For multiclass classification, it should be categorical_crossentropy.\n",
        "\n",
        "3. **metrics**:- which performance metrics to be used in order to compute performance. Here we have used accuracy as a performance metric."
      ],
      "metadata": {
        "id": "gMdqQZX9lH9L"
      }
    },
    {
      "cell_type": "markdown",
      "source": [
        "# Fitting Artificial Neural Network\n",
        "This is the last step in our ann creation process. Here we are just going to train our ann on the training dataset."
      ],
      "metadata": {
        "id": "6_NPTqaRljM_"
      }
    },
    {
      "cell_type": "code",
      "source": [
        "#Fitting ANN\n",
        "ann.fit(X_train,Y_train,batch_size=32,epochs = 30)"
      ],
      "metadata": {
        "colab": {
          "base_uri": "https://localhost:8080/"
        },
        "id": "BVdGypFzlEMW",
        "outputId": "a38237b5-ed4a-4861-ab35-768bea904d89"
      },
      "execution_count": null,
      "outputs": [
        {
          "output_type": "stream",
          "name": "stdout",
          "text": [
            "Epoch 1/30\n",
            "250/250 [==============================] - 1s 2ms/step - loss: 0.6256 - accuracy: 0.7380\n",
            "Epoch 2/30\n",
            "250/250 [==============================] - 0s 2ms/step - loss: 0.4912 - accuracy: 0.7976\n",
            "Epoch 3/30\n",
            "250/250 [==============================] - 0s 2ms/step - loss: 0.4507 - accuracy: 0.8033\n",
            "Epoch 4/30\n",
            "250/250 [==============================] - 0s 2ms/step - loss: 0.4340 - accuracy: 0.8125\n",
            "Epoch 5/30\n",
            "250/250 [==============================] - 0s 2ms/step - loss: 0.4239 - accuracy: 0.8190\n",
            "Epoch 6/30\n",
            "250/250 [==============================] - 0s 2ms/step - loss: 0.4163 - accuracy: 0.8231\n",
            "Epoch 7/30\n",
            "250/250 [==============================] - 0s 2ms/step - loss: 0.4112 - accuracy: 0.8261\n",
            "Epoch 8/30\n",
            "250/250 [==============================] - 0s 2ms/step - loss: 0.4071 - accuracy: 0.8303\n",
            "Epoch 9/30\n",
            "250/250 [==============================] - 0s 2ms/step - loss: 0.4040 - accuracy: 0.8322\n",
            "Epoch 10/30\n",
            "250/250 [==============================] - 0s 2ms/step - loss: 0.4006 - accuracy: 0.8314\n",
            "Epoch 11/30\n",
            "250/250 [==============================] - 0s 2ms/step - loss: 0.3973 - accuracy: 0.8334\n",
            "Epoch 12/30\n",
            "250/250 [==============================] - 0s 2ms/step - loss: 0.3936 - accuracy: 0.8354\n",
            "Epoch 13/30\n",
            "250/250 [==============================] - 0s 2ms/step - loss: 0.3897 - accuracy: 0.8363\n",
            "Epoch 14/30\n",
            "250/250 [==============================] - 0s 2ms/step - loss: 0.3852 - accuracy: 0.8389\n",
            "Epoch 15/30\n",
            "250/250 [==============================] - 0s 2ms/step - loss: 0.3803 - accuracy: 0.8410\n",
            "Epoch 16/30\n",
            "250/250 [==============================] - 0s 2ms/step - loss: 0.3758 - accuracy: 0.8461\n",
            "Epoch 17/30\n",
            "250/250 [==============================] - 1s 2ms/step - loss: 0.3714 - accuracy: 0.8465\n",
            "Epoch 18/30\n",
            "250/250 [==============================] - 1s 2ms/step - loss: 0.3674 - accuracy: 0.8486\n",
            "Epoch 19/30\n",
            "250/250 [==============================] - 1s 3ms/step - loss: 0.3641 - accuracy: 0.8493\n",
            "Epoch 20/30\n",
            "250/250 [==============================] - 1s 3ms/step - loss: 0.3611 - accuracy: 0.8533\n",
            "Epoch 21/30\n",
            "250/250 [==============================] - 0s 2ms/step - loss: 0.3581 - accuracy: 0.8540\n",
            "Epoch 22/30\n",
            "250/250 [==============================] - 0s 2ms/step - loss: 0.3559 - accuracy: 0.8551\n",
            "Epoch 23/30\n",
            "250/250 [==============================] - 0s 2ms/step - loss: 0.3546 - accuracy: 0.8568\n",
            "Epoch 24/30\n",
            "250/250 [==============================] - 0s 2ms/step - loss: 0.3524 - accuracy: 0.8545\n",
            "Epoch 25/30\n",
            "250/250 [==============================] - 0s 2ms/step - loss: 0.3515 - accuracy: 0.8560\n",
            "Epoch 26/30\n",
            "250/250 [==============================] - 0s 2ms/step - loss: 0.3493 - accuracy: 0.8577\n",
            "Epoch 27/30\n",
            "250/250 [==============================] - 0s 2ms/step - loss: 0.3497 - accuracy: 0.8562\n",
            "Epoch 28/30\n",
            "250/250 [==============================] - 0s 2ms/step - loss: 0.3488 - accuracy: 0.8565\n",
            "Epoch 29/30\n",
            "250/250 [==============================] - 0s 2ms/step - loss: 0.3475 - accuracy: 0.8591\n",
            "Epoch 30/30\n",
            "250/250 [==============================] - 0s 2ms/step - loss: 0.3473 - accuracy: 0.8576\n"
          ]
        },
        {
          "output_type": "execute_result",
          "data": {
            "text/plain": [
              "<keras.src.callbacks.History at 0x7dd82e282380>"
            ]
          },
          "metadata": {},
          "execution_count": 18
        }
      ]
    },
    {
      "cell_type": "markdown",
      "source": [
        "Here we have used the fit method in order to train our ann. The fit method is accepting 4 inputs in this case:-\n",
        "\n",
        "1**.X_train:**- Matrix of features for the training dataset\n",
        "\n",
        "2.**Y_train:-** Dependent variable vectors for the training dataset\n",
        "\n",
        "3**.batch_size:** how many observations should be there in the batch. Usually, the value for this parameter is 32 but we can experiment with any other value as well.\n",
        "\n",
        "4.**epochs:** How many times neural networks will be trained. Here the optimal value that I have found from my experience is 100."
      ],
      "metadata": {
        "id": "_dXAP91BlpQG"
      }
    },
    {
      "cell_type": "markdown",
      "source": [
        "*Here we can see that in each epoch our loss is decreasing and our accuracy is increasing. As we can see here that our final accuracy is 86.59 which is pretty remarkable for a neural network with this simplicity.*"
      ],
      "metadata": {
        "id": "SqUcIZWsmGDb"
      }
    },
    {
      "cell_type": "markdown",
      "source": [
        "# Predicting Result for Single Point Observation\n",
        "Here our neural network is trying to predict whether our customer is going to exit or not based on the values of independent variables"
      ],
      "metadata": {
        "id": "eL2Gx2m_mXYN"
      }
    },
    {
      "cell_type": "code",
      "source": [
        "#Predicting result for Single Observation\n",
        "print(ann.predict(sc.transform([[1, 0, 0, 600, 1, 40, 3, 60000, 2, 1, 1,50000]])) > 0.5)"
      ],
      "metadata": {
        "colab": {
          "base_uri": "https://localhost:8080/"
        },
        "id": "6jlnDro8lwH6",
        "outputId": "cbd493d0-d53c-40a8-f68c-edd0a44d1d4c"
      },
      "execution_count": null,
      "outputs": [
        {
          "output_type": "stream",
          "name": "stdout",
          "text": [
            "1/1 [==============================] - 0s 148ms/step\n",
            "[[False]]\n"
          ]
        }
      ]
    },
    {
      "cell_type": "code",
      "source": [
        "from tensorflow.keras.utils import plot_model\n",
        "\n",
        "# Plot the model architecture\n",
        "plot_model(ann, to_file='model_plot.png', show_shapes=True, show_layer_names=True)"
      ],
      "metadata": {
        "colab": {
          "base_uri": "https://localhost:8080/",
          "height": 374
        },
        "id": "5MO8kmVHmiD4",
        "outputId": "53116705-2d9d-497b-876f-a076f53f8d94"
      },
      "execution_count": null,
      "outputs": [
        {
          "output_type": "execute_result",
          "data": {
            "image/png": "[encoded data removed]",
            "text/plain": [
              "<IPython.core.display.Image object>"
            ]
          },
          "metadata": {},
          "execution_count": 20
        }
      ]
    }
  ]
}